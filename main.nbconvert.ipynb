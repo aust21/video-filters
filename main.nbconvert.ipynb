{
 "cells": [
  {
   "cell_type": "code",
   "execution_count": 1,
   "id": "061730ff-7e4b-4943-91e5-be1fd22f8234",
   "metadata": {
    "execution": {
     "iopub.execute_input": "2024-08-29T19:18:11.384037Z",
     "iopub.status.busy": "2024-08-29T19:18:11.383771Z",
     "iopub.status.idle": "2024-08-29T19:18:11.606494Z",
     "shell.execute_reply": "2024-08-29T19:18:11.605820Z"
    }
   },
   "outputs": [],
   "source": [
    "import cv2"
   ]
  },
  {
   "cell_type": "code",
   "execution_count": 2,
   "id": "d2f14fc2-73fe-407e-8ab6-0cd2aafd7a34",
   "metadata": {
    "execution": {
     "iopub.execute_input": "2024-08-29T19:18:11.609426Z",
     "iopub.status.busy": "2024-08-29T19:18:11.609139Z",
     "iopub.status.idle": "2024-08-29T19:18:19.890583Z",
     "shell.execute_reply": "2024-08-29T19:18:19.887751Z"
    }
   },
   "outputs": [],
   "source": [
    "cam = cv2.VideoCapture(0)\n",
    "\n",
    "filter_mode = \"normal\"\n",
    "filtered_output = None\n",
    "while True:\n",
    "    ret, frame = cam.read()\n",
    "    wait_key = cv2.waitKey(1)\n",
    "\n",
    "    if filter_mode == \"normal\":\n",
    "        filtered_output = frame\n",
    "    elif filter_mode == \"blur\":\n",
    "        filtered_output = cv2.blur(frame, (20,20))\n",
    "    elif filter_mode == \"canny\":\n",
    "        filtered_output = cv2.Canny(frame, 100, 200)\n",
    "\n",
    "    cv2.imshow(\"cam\", filtered_output)\n",
    "\n",
    "\n",
    "    # for blur\n",
    "    if wait_key == ord(\"b\"):\n",
    "        filter_mode = \"blur\"\n",
    "    elif wait_key == ord(\"n\"):\n",
    "        filter_mode = \"normal\"\n",
    "    elif wait_key == ord(\"c\"):\n",
    "        filter_mode = \"canny\"\n",
    "        \n",
    "    if wait_key == ord(\"q\"):\n",
    "        break\n",
    "\n",
    "cam.release()\n",
    "cv2.destroyAllWindows()\n"
   ]
  },
  {
   "cell_type": "code",
   "execution_count": null,
   "id": "cc021f93-76e3-4624-a1ce-5f1d6412ead1",
   "metadata": {},
   "outputs": [],
   "source": []
  }
 ],
 "metadata": {
  "kernelspec": {
   "display_name": "Python 3 (ipykernel)",
   "language": "python",
   "name": "python3"
  },
  "language_info": {
   "codemirror_mode": {
    "name": "ipython",
    "version": 3
   },
   "file_extension": ".py",
   "mimetype": "text/x-python",
   "name": "python",
   "nbconvert_exporter": "python",
   "pygments_lexer": "ipython3",
   "version": "3.10.12"
  }
 },
 "nbformat": 4,
 "nbformat_minor": 5
}
