{
 "cells": [
  {
   "cell_type": "code",
   "execution_count": 1,
   "id": "061730ff-7e4b-4943-91e5-be1fd22f8234",
   "metadata": {},
   "outputs": [],
   "source": [
    "import cv2\n",
    "import numpy"
   ]
  },
  {
   "cell_type": "code",
   "execution_count": 2,
   "id": "d2f14fc2-73fe-407e-8ab6-0cd2aafd7a34",
   "metadata": {},
   "outputs": [
    {
     "ename": "error",
     "evalue": "OpenCV(4.10.0) :-1: error: (-5:Bad argument) in function 'circle'\n> Overload resolution failed:\n>  - Can't parse 'center'. Sequence item with index 0 has a wrong type\n>  - Can't parse 'center'. Sequence item with index 0 has a wrong type\n",
     "output_type": "error",
     "traceback": [
      "\u001b[0;31m---------------------------------------------------------------------------\u001b[0m",
      "\u001b[0;31merror\u001b[0m                                     Traceback (most recent call last)",
      "Cell \u001b[0;32mIn[2], line 28\u001b[0m\n\u001b[1;32m     26\u001b[0m     \u001b[38;5;28;01mif\u001b[39;00m corners \u001b[38;5;129;01mis\u001b[39;00m \u001b[38;5;129;01mnot\u001b[39;00m \u001b[38;5;28;01mNone\u001b[39;00m:\n\u001b[1;32m     27\u001b[0m         \u001b[38;5;28;01mfor\u001b[39;00m x, y \u001b[38;5;129;01min\u001b[39;00m numpy\u001b[38;5;241m.\u001b[39mfloat32(corners)\u001b[38;5;241m.\u001b[39mreshape(\u001b[38;5;241m-\u001b[39m\u001b[38;5;241m1\u001b[39m, \u001b[38;5;241m2\u001b[39m):\n\u001b[0;32m---> 28\u001b[0m             \u001b[43mcv2\u001b[49m\u001b[38;5;241;43m.\u001b[39;49m\u001b[43mcircle\u001b[49m\u001b[43m(\u001b[49m\u001b[43mfiltered_output\u001b[49m\u001b[43m,\u001b[49m\u001b[43m \u001b[49m\u001b[43m(\u001b[49m\u001b[43mx\u001b[49m\u001b[43m,\u001b[49m\u001b[43m \u001b[49m\u001b[43my\u001b[49m\u001b[43m)\u001b[49m\u001b[43m,\u001b[49m\u001b[43m \u001b[49m\u001b[38;5;241;43m10\u001b[39;49m\u001b[43m,\u001b[49m\u001b[43m \u001b[49m\u001b[43m(\u001b[49m\u001b[38;5;241;43m0\u001b[39;49m\u001b[43m,\u001b[49m\u001b[43m \u001b[49m\u001b[38;5;241;43m255\u001b[39;49m\u001b[43m,\u001b[49m\u001b[43m \u001b[49m\u001b[38;5;241;43m0\u001b[39;49m\u001b[43m)\u001b[49m\u001b[43m,\u001b[49m\u001b[43m \u001b[49m\u001b[38;5;241;43m1\u001b[39;49m\u001b[43m)\u001b[49m\n\u001b[1;32m     30\u001b[0m cv2\u001b[38;5;241m.\u001b[39mimshow(\u001b[38;5;124m\"\u001b[39m\u001b[38;5;124mcam\u001b[39m\u001b[38;5;124m\"\u001b[39m, filtered_output)\n\u001b[1;32m     33\u001b[0m \u001b[38;5;66;03m# for blur\u001b[39;00m\n",
      "\u001b[0;31merror\u001b[0m: OpenCV(4.10.0) :-1: error: (-5:Bad argument) in function 'circle'\n> Overload resolution failed:\n>  - Can't parse 'center'. Sequence item with index 0 has a wrong type\n>  - Can't parse 'center'. Sequence item with index 0 has a wrong type\n"
     ]
    }
   ],
   "source": [
    "cam = cv2.VideoCapture(0)\n",
    "\n",
    "filter_mode = \"normal\"\n",
    "filtered_output = None\n",
    "feature_params = dict(maxCorners=500,\n",
    "                      qualityLevel=0.2,\n",
    "                      minDistance=15,\n",
    "                      blockSize=9)\n",
    "\n",
    "while True:\n",
    "    ret, frame = cam.read()\n",
    "    wait_key = cv2.waitKey(1)\n",
    "\n",
    "    if filter_mode == \"normal\":\n",
    "        filtered_output = frame\n",
    "    elif filter_mode == \"blur\":\n",
    "        filtered_output = cv2.blur(frame, (20,20))\n",
    "    elif filter_mode == \"canny\":\n",
    "        filtered_output = cv2.Canny(frame, 100, 200)\n",
    "    elif filter_mode == \"blackWhite\":\n",
    "        filtered_output = cv2.cvtColor(frame, cv2.COLOR_BGR2GRAY)\n",
    "    elif filter_mode == \"corner\":\n",
    "        filtered_output = frame\n",
    "        filtered_output_gray = cv2.cvtColor(frame, cv2.COLOR_BGR2GRAY)\n",
    "        corners = cv2.goodFeaturesToTrack(filtered_output_gray, **feature_params)\n",
    "        if corners is not None:\n",
    "            for x, y in numpy.float32(corners).reshape(-1, 2):\n",
    "                cv2.circle(filtered_output, (int(x), y), 10, (0, 255, 0), 1)\n",
    "\n",
    "    cv2.imshow(\"cam\", filtered_output)\n",
    "\n",
    "\n",
    "    # for blur\n",
    "    if wait_key == ord(\"b\"):\n",
    "        filter_mode = \"blur\"\n",
    "    elif wait_key == ord(\"n\"):\n",
    "        filter_mode = \"normal\"\n",
    "    elif wait_key == ord(\"c\"):\n",
    "        filter_mode = \"canny\"\n",
    "    elif wait_key == ord(\"w\"):\n",
    "        filter_mode = \"blackWhite\"\n",
    "    elif wait_key == ord(\"f\"):\n",
    "        filter_mode = \"corner\"\n",
    "    \n",
    "    if wait_key == ord(\"q\"):\n",
    "        break\n",
    "\n",
    "cam.release()\n",
    "cv2.destroyAllWindows()\n"
   ]
  },
  {
   "cell_type": "code",
   "execution_count": null,
   "id": "cc021f93-76e3-4624-a1ce-5f1d6412ead1",
   "metadata": {},
   "outputs": [],
   "source": []
  }
 ],
 "metadata": {
  "kernelspec": {
   "display_name": "Python 3 (ipykernel)",
   "language": "python",
   "name": "python3"
  },
  "language_info": {
   "codemirror_mode": {
    "name": "ipython",
    "version": 3
   },
   "file_extension": ".py",
   "mimetype": "text/x-python",
   "name": "python",
   "nbconvert_exporter": "python",
   "pygments_lexer": "ipython3",
   "version": "3.10.12"
  }
 },
 "nbformat": 4,
 "nbformat_minor": 5
}
