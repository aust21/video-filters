{
 "cells": [
  {
   "cell_type": "code",
   "execution_count": 7,
   "id": "061730ff-7e4b-4943-91e5-be1fd22f8234",
   "metadata": {},
   "outputs": [],
   "source": [
    "import cv2\n",
    "import numpy"
   ]
  },
  {
   "cell_type": "code",
   "execution_count": 11,
   "id": "bba1db81-6c32-4d47-b538-3fd0e0c1cbbd",
   "metadata": {},
   "outputs": [],
   "source": [
    "def get_filter_mode(key, mode):\n",
    " \n",
    "    if key == ord(\"b\"):\n",
    "        return \"blur\"\n",
    "    if key == ord(\"n\"):\n",
    "        return \"normal\"\n",
    "    if wait_key == ord(\"c\"):\n",
    "        return \"canny\"\n",
    "    if wait_key == ord(\"w\"):\n",
    "        return \"blackWhite\"\n",
    "    if wait_key == ord(\"f\"):\n",
    "        return \"corner\"\n",
    "    return mode"
   ]
  },
  {
   "cell_type": "code",
   "execution_count": 12,
   "id": "8a1d5c65-fc70-430b-be8b-e4c5727a64bb",
   "metadata": {},
   "outputs": [],
   "source": [
    "def set_output_mode(filter_mode, frame):\n",
    "\n",
    "    if filter_mode == \"normal\":\n",
    "        filtered_output = frame\n",
    "    elif filter_mode == \"blur\":\n",
    "        filtered_output = cv2.blur(frame, (20,20))\n",
    "    elif filter_mode == \"canny\":\n",
    "        filtered_output = cv2.Canny(frame, 100, 200)\n",
    "    elif filter_mode == \"blackWhite\":\n",
    "        filtered_output = cv2.cvtColor(frame, cv2.COLOR_BGR2GRAY)\n",
    "    elif filter_mode == \"corner\":\n",
    "        filtered_output = frame\n",
    "        filtered_output_gray = cv2.cvtColor(frame, cv2.COLOR_BGR2GRAY)\n",
    "        corners = cv2.goodFeaturesToTrack(filtered_output_gray, **feature_params)\n",
    "        if corners is not None:\n",
    "            for x, y in numpy.float32(corners).reshape(-1, 2):\n",
    "                cv2.circle(filtered_output, (int(x), int(y)), 10, (0, 255, 0), 1)\n",
    "    return filtered_output"
   ]
  },
  {
   "cell_type": "code",
   "execution_count": 13,
   "id": "d2f14fc2-73fe-407e-8ab6-0cd2aafd7a34",
   "metadata": {},
   "outputs": [],
   "source": [
    "cam = cv2.VideoCapture(0)\n",
    "\n",
    "filter_mode = \"normal\"\n",
    "filtered_output = None\n",
    "feature_params = dict(maxCorners=500,\n",
    "                      qualityLevel=0.2,\n",
    "                      minDistance=15,\n",
    "                      blockSize=9)\n",
    "\n",
    "while True:\n",
    "    ret, frame = cam.read()\n",
    "    wait_key = cv2.waitKey(1)\n",
    "\n",
    "    filtered_output = set_output_mode(filter_mode, frame)\n",
    "\n",
    "    cv2.imshow(\"cam\", filtered_output)\n",
    "\n",
    "    filter_mode = get_filter_mode(wait_key, filter_mode)\n",
    "    \n",
    "    \n",
    "    if wait_key == ord(\"q\"):\n",
    "        break\n",
    "\n",
    "cam.release()\n",
    "cv2.destroyAllWindows()\n"
   ]
  },
  {
   "cell_type": "code",
   "execution_count": null,
   "id": "cc021f93-76e3-4624-a1ce-5f1d6412ead1",
   "metadata": {},
   "outputs": [],
   "source": []
  }
 ],
 "metadata": {
  "kernelspec": {
   "display_name": "Python 3 (ipykernel)",
   "language": "python",
   "name": "python3"
  },
  "language_info": {
   "codemirror_mode": {
    "name": "ipython",
    "version": 3
   },
   "file_extension": ".py",
   "mimetype": "text/x-python",
   "name": "python",
   "nbconvert_exporter": "python",
   "pygments_lexer": "ipython3",
   "version": "3.10.12"
  }
 },
 "nbformat": 4,
 "nbformat_minor": 5
}
